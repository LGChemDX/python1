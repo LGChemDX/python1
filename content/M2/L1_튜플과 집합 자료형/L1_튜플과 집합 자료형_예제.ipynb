{
 "cells": [
  {
   "cell_type": "markdown",
   "metadata": {
    "id": "pbxEQNZMr9De"
   },
   "source": [
    "# **Lesson 1. 튜플과 집합 자료형**\n",
    "데이터 분석 초급 과정 1 (Python) > Module 2. Python Skill-Up"
   ]
  },
  {
   "cell_type": "markdown",
   "metadata": {
    "id": "nNVd-AFTgAYW"
   },
   "source": [
    "## **Topic 1. 튜플 자료형**"
   ]
  },
  {
   "cell_type": "markdown",
   "metadata": {
    "id": "nDXGytfxrFMA"
   },
   "source": [
    "### **1) 튜플 만들기**\n",
    "\n",
    "- 리스트는 대괄호 [ ], 튜플은 소괄호( )를 사용해 선언합니다.\n",
    "- 튜플의 소괄호는 생략할 수 있습니다."
   ]
  },
  {
   "cell_type": "markdown",
   "metadata": {
    "id": "5yKu7ctt1xeB"
   },
   "source": [
    "#### **① 빈 튜플**\n",
    "\n",
    "- 다음은 빈 튜플을 만드는 두 가지 방법입니다."
   ]
  },
  {
   "cell_type": "code",
   "execution_count": null,
   "metadata": {
    "id": "fGY-rxc0f8Bn"
   },
   "outputs": [],
   "source": [
    "# 빈 튜플 만들기 #1\n",
    "score = ()\n",
    "\n",
    "# 확인\n",
    "print(score)\n",
    "print(type(score))"
   ]
  },
  {
   "cell_type": "code",
   "execution_count": null,
   "metadata": {
    "id": "-QA99rg8p3Ql"
   },
   "outputs": [],
   "source": [
    "# 빈 튜플 만들기 #2\n",
    "score = tuple()\n",
    "\n",
    "# 확인\n",
    "print(score)\n",
    "print(type(score))"
   ]
  },
  {
   "cell_type": "markdown",
   "metadata": {
    "id": "sI-K8P2fptzE"
   },
   "source": [
    "#### **② 요소가 하나인 튜플**\n",
    "\n",
    "- 다음은 요소가 하나인 튜플을 만드는 구문이 아닌 정수형 변수를 선언한 구문입니다."
   ]
  },
  {
   "cell_type": "code",
   "execution_count": null,
   "metadata": {
    "id": "JWLcd8Lwg4Az"
   },
   "outputs": [],
   "source": [
    "# 튜플 선언(?)\n",
    "score = (90)\n",
    "\n",
    "# 확인\n",
    "print(score)\n",
    "print(type(score))"
   ]
  },
  {
   "cell_type": "markdown",
   "metadata": {
    "id": "tcPCXFw8qMy9"
   },
   "source": [
    "- 요소가 하나인 튜플은 다음과 같이 콤마를 추가해서 만들어야 합니다."
   ]
  },
  {
   "cell_type": "code",
   "execution_count": null,
   "metadata": {
    "id": "nYBNu67ieZFj"
   },
   "outputs": [],
   "source": [
    "# 튜플 선언\n",
    "score = (90,)\n",
    "\n",
    "# 확인\n",
    "print(score)\n",
    "print(type(score))\n",
    "print(len(score))"
   ]
  },
  {
   "cell_type": "markdown",
   "metadata": {
    "id": "6kzTxFGu1rQ7"
   },
   "source": [
    "#### **③ 다양한 튜플**"
   ]
  },
  {
   "cell_type": "code",
   "execution_count": null,
   "metadata": {
    "id": "VXcKJfU_hRZ8"
   },
   "outputs": [],
   "source": [
    "# 튜플 선언\n",
    "score1 = (90, 85, 70)\n",
    "score2 = 90, 85, 70\n",
    "score3 = (90, 85, 70, ('A', 'B', 'D', 'F'))\n",
    "score4 = (90, 85, 70, ['A', 'B', 'D', 'F'])\n",
    "\n",
    "# 확인\n",
    "print(score1)\n",
    "print(score2)\n",
    "print(score3)\n",
    "print(score4)"
   ]
  },
  {
   "cell_type": "code",
   "execution_count": null,
   "metadata": {
    "id": "54KNCZIn8Lay",
    "scrolled": true
   },
   "outputs": [],
   "source": [
    "# range() 함수 사용\n",
    "num1 = list(range(5))\n",
    "num2 = tuple(range(5))\n",
    "\n",
    "# 확인\n",
    "print(num1)\n",
    "print(num2)"
   ]
  },
  {
   "cell_type": "code",
   "execution_count": null,
   "metadata": {
    "id": "cK5nyELgZESH"
   },
   "outputs": [],
   "source": [
    "# 문자열 --> 튜플\n",
    "char1 = list('PYTHON')\n",
    "char2 = tuple('PYTHON')\n",
    "\n",
    "# 확인\n",
    "print(char1)\n",
    "print(char2)"
   ]
  },
  {
   "cell_type": "markdown",
   "metadata": {
    "id": "EbNc2XYP7vT-"
   },
   "source": [
    "### **2) 리스트 vs 튜플**\n",
    "\n",
    "- 리스트는 요소를 변경할 수 있습니다."
   ]
  },
  {
   "cell_type": "code",
   "execution_count": null,
   "metadata": {
    "id": "vMz-q6ilL3PO"
   },
   "outputs": [],
   "source": [
    "# 리스트 선언\n",
    "a = [1, 2, 3, 4, 5]\n",
    "\n",
    "# 요소 변경\n",
    "a[0] = 10\n",
    "\n",
    "# 확인\n",
    "print(a)"
   ]
  },
  {
   "cell_type": "markdown",
   "metadata": {
    "id": "kRKKOBv3L3PP"
   },
   "source": [
    "- 튜플은 요소를 변경할 수 없습니다."
   ]
  },
  {
   "cell_type": "code",
   "execution_count": null,
   "metadata": {
    "id": "9unAGVk9L3PP",
    "scrolled": true
   },
   "outputs": [],
   "source": [
    "# 튜플 만들기\n",
    "b = (1, 2, 3, 4, 5)\n",
    "\n",
    "# 요소 변경\n",
    "b[0] = 10"
   ]
  },
  {
   "cell_type": "markdown",
   "metadata": {
    "id": "IHoKVdoOQKsl"
   },
   "source": [
    "### **3) 관련 메서드**\n",
    "\n",
    "- 튜플은 요소를 변경할 수 없어서 조회를 위한 몇 가지 메서드만 존재합니다."
   ]
  },
  {
   "cell_type": "markdown",
   "metadata": {
    "id": "XNULZh1MX_2u"
   },
   "source": [
    "#### **① count() 메서드**\n",
    "\n",
    "- count() 메서드를 사용해 특정 요소가 몇 개 포함되어 있는지 확인할 수 있습니다.\n",
    "- 지정한 요소가 없으면 0을 반환합니다."
   ]
  },
  {
   "cell_type": "code",
   "execution_count": null,
   "metadata": {
    "id": "0JBaN3Ui4pYC"
   },
   "outputs": [],
   "source": [
    "# 튜플 선언\n",
    "score = (90, 80, 95, 70, 100, 65, 70, 100)\n",
    "\n",
    "# 100점이 몇 개인지 확인\n",
    "print(score.count(100))"
   ]
  },
  {
   "cell_type": "markdown",
   "metadata": {
    "id": "9BvWE-0Z_V9W"
   },
   "source": [
    "#### **② index() 메서드**\n",
    "\n",
    "- index() 메서드를 사용해 지정한 요소의 위치를 확인할 수 있습니다.\n",
    "- 지정한 요소가 없으면 오류가 발생합니다."
   ]
  },
  {
   "cell_type": "code",
   "execution_count": null,
   "metadata": {
    "id": "JuGc3QoFQ_LB"
   },
   "outputs": [],
   "source": [
    "# 튜플 선언\n",
    "score = (90, 80, 95, 70, 100, 65, 70, 100)\n",
    "\n",
    "# 100의 첫 번째 위치 확인\n",
    "print(score.index(100))"
   ]
  },
  {
   "cell_type": "markdown",
   "metadata": {
    "id": "sNMDJEKJMHo0"
   },
   "source": [
    "## **Topic 2. 집합 자료형**"
   ]
  },
  {
   "cell_type": "markdown",
   "metadata": {
    "id": "msXpShKOM2MS"
   },
   "source": [
    "### **1) 집합 만들기**"
   ]
  },
  {
   "cell_type": "markdown",
   "metadata": {
    "id": "oElGw1pJ9rb6"
   },
   "source": [
    "#### **① 같은 자료형을 갖는 집합**"
   ]
  },
  {
   "cell_type": "code",
   "execution_count": null,
   "metadata": {
    "id": "N8OQc7h7NumI"
   },
   "outputs": [],
   "source": [
    "# 집합 선언\n",
    "nums = {0, 1, 2, 3, 4, 5, 6, 7, 8, 9}\n",
    "\n",
    "# 확인\n",
    "print(nums)"
   ]
  },
  {
   "cell_type": "code",
   "execution_count": null,
   "metadata": {
    "id": "D700KV_y9oKC"
   },
   "outputs": [],
   "source": [
    "# 집합 선언\n",
    "members = {'홍길동', '한사랑', '일지매', '박여인'}\n",
    "\n",
    "# 확인\n",
    "print(members)"
   ]
  },
  {
   "cell_type": "markdown",
   "metadata": {
    "id": "MOKmhWM79xvp"
   },
   "source": [
    "#### **② 여러 자료형을 갖는 집합**"
   ]
  },
  {
   "cell_type": "code",
   "execution_count": null,
   "metadata": {
    "id": "YBPQ5sQ19o4J"
   },
   "outputs": [],
   "source": [
    "# 집합 선언\n",
    "etc = {'홍길동', 100, (1, 2, 3), '박여인'}\n",
    "\n",
    "# 확인\n",
    "print(etc)"
   ]
  },
  {
   "cell_type": "markdown",
   "metadata": {
    "id": "roQTGV3Y-GDO"
   },
   "source": [
    "#### **③ 문자열 → 집합**\n",
    "\n",
    "- list(), tuple() 함수로 문자열을 리스트나 튜플로 변환할 수 있었습니다.\n",
    "- set() 함수로 개별 문자를 요소로 갖는 집합을 만들 수 있습니다.\n",
    "- 같은 요소를 갖지 않는 집합의 특징에 따라 **중복된 문자는 제거**됩니다."
   ]
  },
  {
   "cell_type": "code",
   "execution_count": null,
   "metadata": {
    "id": "wfJ7a64Qt_MJ",
    "scrolled": true
   },
   "outputs": [],
   "source": [
    "# 집합 선언\n",
    "hello = set('잘지내지요')\n",
    "\n",
    "# 확인\n",
    "print(hello)"
   ]
  },
  {
   "cell_type": "markdown",
   "metadata": {
    "id": "3gKzYiio-NuQ"
   },
   "source": [
    "#### **④ range() → 집합**\n",
    "\n",
    "- range() 함수로 리스트, 튜플, 집합등 다양한 자료형을 만들 수 있습니다."
   ]
  },
  {
   "cell_type": "code",
   "execution_count": null,
   "metadata": {
    "id": "fZiiATtI97Np"
   },
   "outputs": [],
   "source": [
    "# 집합 선언\n",
    "nums = set(range(0, 10))\n",
    "\n",
    "# 확인\n",
    "print(nums)"
   ]
  },
  {
   "cell_type": "markdown",
   "metadata": {
    "id": "-oiU61IQ-S_n"
   },
   "source": [
    "#### **⑤ 리스트 → 집합**\n",
    "\n",
    "- 리스트가 집합으로 변환되면 중복된 요소는 제거됩니다."
   ]
  },
  {
   "cell_type": "code",
   "execution_count": null,
   "metadata": {
    "id": "SXcfUfR398At"
   },
   "outputs": [],
   "source": [
    "# 리스트 선언\n",
    "member = ['홍길동', '한사랑', '홍길동', '일지매', '박여인']\n",
    "\n",
    "# 집합 선언\n",
    "member1 = set(member)\n",
    "\n",
    "# 확인\n",
    "print(member1)"
   ]
  },
  {
   "cell_type": "markdown",
   "metadata": {
    "id": "G8umU5gsGJ0w"
   },
   "source": [
    "### **2) 합집합, 교집합, 차집합**\n",
    "\n",
    "- 집합 자료형을 사용하는 주된 목적은 합집합, 교집합, 차집합 연산을 위한 것입니다."
   ]
  },
  {
   "cell_type": "markdown",
   "metadata": {
    "id": "1w8zZqVsidwf"
   },
   "source": [
    "#### **① 합집합**\n",
    "\n",
    "- 합집합은 | 또는 union() 메서드를 사용해 구합니다."
   ]
  },
  {
   "cell_type": "code",
   "execution_count": null,
   "metadata": {
    "id": "-2QTf6UIwMwW"
   },
   "outputs": [],
   "source": [
    "# 집합 선언\n",
    "member_set1 = {'홍길동', '한사랑', '일지매', '박여인'}\n",
    "member_set2 = {'한사랑', '홍길민', '강우동'}\n",
    "\n",
    "# 합집합 구하기 #1\n",
    "member_set3 = member_set1 | member_set2\n",
    "\n",
    "# 확인\n",
    "print(member_set3)"
   ]
  },
  {
   "cell_type": "code",
   "execution_count": null,
   "metadata": {
    "id": "6qC3gRAbwPN0"
   },
   "outputs": [],
   "source": [
    "# 합집합 구하기 #2\n",
    "member_set3 = member_set1.union(member_set2)\n",
    "\n",
    "# 확인\n",
    "print(member_set3)"
   ]
  },
  {
   "cell_type": "markdown",
   "metadata": {
    "id": "D_T_IjBsibVS"
   },
   "source": [
    "#### **② 교집합**\n",
    "\n",
    "- 교집합은 & 또는 intersection() 메서드를 사용해 구합니다."
   ]
  },
  {
   "cell_type": "code",
   "execution_count": null,
   "metadata": {
    "id": "-wzQ3GWkvZ-a"
   },
   "outputs": [],
   "source": [
    "# 집합 선언\n",
    "member_set1 = {'홍길동', '한사랑', '일지매', '박여인'}\n",
    "member_set2 = {'한사랑', '홍길민', '강우동'}\n",
    "\n",
    "# 교집합 구하기 #1\n",
    "member_set3 = member_set1 & member_set2\n",
    "\n",
    "# 확인\n",
    "print(member_set3)"
   ]
  },
  {
   "cell_type": "code",
   "execution_count": null,
   "metadata": {
    "id": "hzzfisUsvzgx"
   },
   "outputs": [],
   "source": [
    "# 교집합 구하기 #2\n",
    "member_set3 = member_set1.intersection(member_set2)\n",
    "\n",
    "# 확인\n",
    "print(member_set3)"
   ]
  },
  {
   "cell_type": "markdown",
   "metadata": {
    "id": "rDXa8FaviZJK"
   },
   "source": [
    "#### **③ 차집합**\n",
    "\n",
    "- 차집합은 - 또는 difference() 메서드를 사용해 구합니다."
   ]
  },
  {
   "cell_type": "code",
   "execution_count": null,
   "metadata": {
    "id": "v8-ydZbnwmbf"
   },
   "outputs": [],
   "source": [
    "# 집합 선언\n",
    "member_set1 = {'홍길동', '한사랑', '일지매', '박여인'}\n",
    "member_set2 = {'한사랑', '홍길민', '강우동'}\n",
    "\n",
    "# 차집합 구하기 #1\n",
    "member_set3 = member_set1 - member_set2\n",
    "\n",
    "# 확인\n",
    "print(member_set3)"
   ]
  },
  {
   "cell_type": "code",
   "execution_count": null,
   "metadata": {
    "id": "yqqOjzlcwpF5"
   },
   "outputs": [],
   "source": [
    "# 차집합 구하기 #2\n",
    "member_set3 = member_set1.difference(member_set2)\n",
    "\n",
    "# 확인\n",
    "print(member_set3)"
   ]
  },
  {
   "cell_type": "markdown",
   "metadata": {
    "id": "juahzTtJiU-1"
   },
   "source": [
    "#### **④ 대칭 차집합**\n",
    "\n",
    "- 대칭 차집합은 ^ 또는 symmetric_difference() 메서드를 사용해 구합니다."
   ]
  },
  {
   "cell_type": "code",
   "execution_count": null,
   "metadata": {
    "id": "Dpov7V4PETqj"
   },
   "outputs": [],
   "source": [
    "# 집합 선언\n",
    "member_set1 = {'홍길동',  '한사랑', '일지매', '박여인'}\n",
    "member_set2 = {'한사랑', '홍길민', '강우동'}\n",
    "\n",
    "# 대칭 차집합 구하기 #1\n",
    "member_set3 = member_set1 ^ member_set2\n",
    "\n",
    "# 확인\n",
    "print(member_set3)"
   ]
  },
  {
   "cell_type": "code",
   "execution_count": null,
   "metadata": {
    "id": "G9roahuPEacM"
   },
   "outputs": [],
   "source": [
    "# 대칭 차집합 구하기 #2\n",
    "member_set3 = member_set1.symmetric_difference(member_set2)\n",
    "\n",
    "# 확인\n",
    "print(member_set3)"
   ]
  },
  {
   "cell_type": "markdown",
   "metadata": {
    "id": "6KmXU1TUw1OB"
   },
   "source": [
    "## **Topic 3. 집합 관련 메서드**"
   ]
  },
  {
   "cell_type": "markdown",
   "metadata": {
    "id": "Dkqg081ZhbN5"
   },
   "source": [
    "### **1) 요소 추가용 메서드**"
   ]
  },
  {
   "cell_type": "markdown",
   "metadata": {
    "id": "NRJ9eIvB1D9h"
   },
   "source": [
    "#### **① add() 메서드**\n",
    "\n",
    "- 요소 하나를 추가할 때는 add() 메서드를 사용합니다."
   ]
  },
  {
   "cell_type": "code",
   "execution_count": null,
   "metadata": {
    "id": "fzBRVDgQw84H"
   },
   "outputs": [],
   "source": [
    "# 집합 선언\n",
    "member_set = {'홍길동', '한사랑', '일지매', '박여인'}\n",
    "\n",
    "# 요소 추가\n",
    "member_set.add('강우동')\n",
    "\n",
    "# 확인\n",
    "print(member_set)"
   ]
  },
  {
   "cell_type": "markdown",
   "metadata": {
    "id": "q_46C8KD1SlA"
   },
   "source": [
    "#### **② update() 메서드**\n",
    "\n",
    "- 여러 요소를 추가할 때는 update() 메서드를 사용합니다.\n",
    "- update() 메서드가 변경이 아닌 추가임을 기억하기 바랍니다."
   ]
  },
  {
   "cell_type": "code",
   "execution_count": null,
   "metadata": {
    "id": "p5dw3XYtxMnb"
   },
   "outputs": [],
   "source": [
    "# 집합 선언\n",
    "member_set = {'홍길동', '한사랑', '일지매', '박여인'}\n",
    "\n",
    "# 요소 추가\n",
    "member_set.update(['한국인', '나도야'])\n",
    "\n",
    "# 확인\n",
    "print(member_set)"
   ]
  },
  {
   "cell_type": "markdown",
   "metadata": {
    "id": "6H7hEDAwhlJ8"
   },
   "source": [
    "### **2) 요소 삭제용 메서드**"
   ]
  },
  {
   "cell_type": "markdown",
   "metadata": {
    "id": "CQvFrGLU1ct7"
   },
   "source": [
    "#### **① pop() 메서드**\n",
    "\n",
    "- 무작위로 요소 하나를 삭제할 때는 pop() 메서드를 사용합니다.\n",
    "- pop() 메서드는 삭제되는 요소를 반환하면서 삭제합니다."
   ]
  },
  {
   "cell_type": "code",
   "execution_count": null,
   "metadata": {
    "id": "JPx2qyDOC5UB"
   },
   "outputs": [],
   "source": [
    "# 집합 선언\n",
    "member_set = {'홍길동', '한사랑', '일지매', '박여인'}\n",
    "\n",
    "# 요소 삭제\n",
    "del_member = member_set.pop()\n",
    "\n",
    "# 확인\n",
    "print(member_set)\n",
    "print(del_member)"
   ]
  },
  {
   "cell_type": "markdown",
   "metadata": {
    "id": "tbGr3g8Q1f8Y"
   },
   "source": [
    "#### **② remove() 메서드**\n",
    "\n",
    "- 요소를 지정해서 삭제할 때는 remove() 메서드를 사용합니다.\n",
    "- 삭제하려는 요소가 없으면 오류가 납니다."
   ]
  },
  {
   "cell_type": "code",
   "execution_count": null,
   "metadata": {
    "id": "44_-f66Oxaek"
   },
   "outputs": [],
   "source": [
    "# 집합 선언\n",
    "member_set = {'홍길동', '한사랑', '일지매', '박여인'}\n",
    "\n",
    "# 요소 삭제\n",
    "member_set.remove('일지매')\n",
    "\n",
    "# 확인\n",
    "print(member_set)"
   ]
  },
  {
   "cell_type": "markdown",
   "metadata": {
    "id": "_JH5mV6v1kJF"
   },
   "source": [
    "#### **③ discard() 메서드**\n",
    "\n",
    "- 요소를 지정해서 하나 삭제할 때는 discard() 메서드를 사용합니다.\n",
    "- remove() 메서드와는 달리 삭제하려는 요소가 없어도 오류가 나지 않습니다."
   ]
  },
  {
   "cell_type": "code",
   "execution_count": null,
   "metadata": {
    "id": "j91Ck49qCs9r"
   },
   "outputs": [],
   "source": [
    "# 집합 선언\n",
    "member_set = {'홍길동', '한사랑', '일지매', '박여인'}\n",
    "\n",
    "# 요소 삭제\n",
    "member_set.discard('홍길동')\n",
    "member_set.discard('한국인')\n",
    "\n",
    "# 확인\n",
    "print(member_set)"
   ]
  },
  {
   "cell_type": "markdown",
   "metadata": {
    "id": "-YPUA5x81YmI"
   },
   "source": [
    "#### **④ clear() 메서드**\n",
    "\n",
    "- 모든 요소를 삭제할 때는 clear() 메서드를 사용합니다."
   ]
  },
  {
   "cell_type": "code",
   "execution_count": null,
   "metadata": {
    "id": "T5cPKLFZD2gq"
   },
   "outputs": [],
   "source": [
    "# 집합 선언\n",
    "member_set = {'홍길동', '한사랑', '일지매', '박여인'}\n",
    "\n",
    "# 요소 삭제\n",
    "member_set.clear()\n",
    "\n",
    "# 확인\n",
    "print(member_set)"
   ]
  },
  {
   "cell_type": "markdown",
   "metadata": {
    "id": "d2l8EnUNMOyh"
   },
   "source": [
    "## **Topic 4. 집합 자료형 활용**"
   ]
  },
  {
   "cell_type": "markdown",
   "metadata": {
    "id": "kdFhYCenkmmX"
   },
   "source": [
    "### **1) 중복 요소 제거**\n",
    "\n",
    "- 집합은 중복된 요소를 갖지 않습니다.\n",
    "- 이 특징에 활용해 리스트에서 중복된 요소를 제거할 수 있습니다."
   ]
  },
  {
   "cell_type": "code",
   "execution_count": null,
   "metadata": {
    "id": "Krn1nFDsu0Xz"
   },
   "outputs": [],
   "source": [
    "# 리스트 선언\n",
    "nums = [12, 45, 23, 21, 36, 28, 12, 36, 35, 28, 45, 63, 12, 21]\n",
    "\n",
    "# 중복 제거\n",
    "nums = set(nums)\n",
    "nums = list(nums)\n",
    "\n",
    "#확인\n",
    "print(nums)"
   ]
  },
  {
   "cell_type": "markdown",
   "metadata": {
    "id": "hKhLVTNiGEZa"
   },
   "source": [
    "### **2) 중복 요소 확인**\n",
    "\n",
    "- 교집합을 활용해 두 리스트 사이의 중복된 요소를 확인할 수 있습니다."
   ]
  },
  {
   "cell_type": "code",
   "execution_count": null,
   "metadata": {
    "id": "Kp6yK74UGEZc"
   },
   "outputs": [],
   "source": [
    "# 리스트 선언\n",
    "nums1 = [12, 23, 32, 36, 41, 48]\n",
    "nums2 = [12, 19, 24, 32, 36, 47]\n",
    "\n",
    "# 중복 확인\n",
    "duplicated = set(nums1) & set(nums2)\n",
    "duplicated = list(duplicated)\n",
    "\n",
    "#확인\n",
    "print(duplicated)"
   ]
  },
  {
   "cell_type": "markdown",
   "metadata": {
    "id": "i--Cjvk4GEZl"
   },
   "source": [
    "### **3) 요소 중복 없이 결합**\n",
    "\n",
    "- 합집합 기능을 활용해 두 리스트의 중복된 요소를 제거하면서 결합할 수 있습니다."
   ]
  },
  {
   "cell_type": "code",
   "execution_count": null,
   "metadata": {
    "id": "lyxtZ3WDGEZm"
   },
   "outputs": [],
   "source": [
    "# 리스트 선언\n",
    "nums1 = [12, 23, 32, 36, 41, 48]\n",
    "nums2 = [12, 19, 24, 32, 36, 47]\n",
    "\n",
    "# 합치기\n",
    "nums = set(nums1) | set(nums2)\n",
    "nums = list(nums)\n",
    "\n",
    "#확인\n",
    "print(nums)"
   ]
  }
 ],
 "metadata": {
  "colab": {
   "provenance": []
  },
  "kernelspec": {
   "display_name": "Python 3 (ipykernel)",
   "language": "python",
   "name": "python3"
  },
  "language_info": {
   "codemirror_mode": {
    "name": "ipython",
    "version": 3
   },
   "file_extension": ".py",
   "mimetype": "text/x-python",
   "name": "python",
   "nbconvert_exporter": "python",
   "pygments_lexer": "ipython3",
   "version": "3.11.5"
  }
 },
 "nbformat": 4,
 "nbformat_minor": 1
}
