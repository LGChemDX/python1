{
  "cells": [
    {
      "cell_type": "markdown",
      "metadata": {
        "id": "9lVOgXy-vVa5"
      },
      "source": [
        "# **Lesson 3. 함수와 모듈**\n",
        "데이터 분석 초급 과정 1 (Python) > Module 2. Python Skill-Up"
      ]
    },
    {
      "cell_type": "markdown",
      "metadata": {
        "id": "RUn_zBAPm8NU"
      },
      "source": [
        "## **Topic 1. 기본 함수 만들기**"
      ]
    },
    {
      "cell_type": "markdown",
      "metadata": {
        "id": "8x3kKJuXoA_h"
      },
      "source": [
        "### **1) 함수 선언과 사용**\n",
        "\n",
        "- 우선 무작정 다음과 같이 함수를 만들어 봅니다."
      ]
    },
    {
      "cell_type": "code",
      "execution_count": null,
      "metadata": {
        "id": "i1jtbf1tNvy2"
      },
      "outputs": [],
      "source": [
        "# 함수 선언\n",
        "def hello():\n",
        "    print('안녕하세요? 반갑습니다!')\n",
        "\n",
        "# 함수 사용\n",
        "hello()"
      ]
    },
    {
      "cell_type": "markdown",
      "metadata": {
        "id": "Z5Rj9qkQvtOC"
      },
      "source": [
        "- 하나 더 만들어봅니다."
      ]
    },
    {
      "cell_type": "code",
      "execution_count": null,
      "metadata": {
        "id": "Lb23fiw9t4gB"
      },
      "outputs": [],
      "source": [
        "# 함수 선언\n",
        "def times_table_2():\n",
        "    for i in range(1, 10):\n",
        "        print(f'2 x {i} = {2 * i}')\n",
        "\n",
        "# 함수 사용\n",
        "times_table_2()"
      ]
    },
    {
      "cell_type": "markdown",
      "metadata": {
        "id": "RKxy4jFWoFmo"
      },
      "source": [
        "### **2) 입력 매개변수**\n",
        "\n",
        "- 앞에서 본 다음 함수는 입력 매개변수가 없습니다.\n",
        "- 그래서 기능이 단순합니다."
      ]
    },
    {
      "cell_type": "code",
      "execution_count": null,
      "metadata": {
        "id": "hXQGpW0KtD3E"
      },
      "outputs": [],
      "source": [
        "# 함수 선언\n",
        "def hello():\n",
        "    print('안녕하세요? 반갑습니다!')\n",
        "\n",
        "# 함수 사용\n",
        "hello()"
      ]
    },
    {
      "cell_type": "markdown",
      "metadata": {
        "id": "odzcGiIetUsi"
      },
      "source": [
        "- 입력 매개변수가 있는 함수가 더 많은 역할을 수행하므로 자주 사용됩니다.\n",
        "- 이제 이름을 입력 매개변수로 받아 처리하는 함수를 만듭니다."
      ]
    },
    {
      "cell_type": "code",
      "execution_count": null,
      "metadata": {
        "id": "a0J-Z-xvwwBA"
      },
      "outputs": [],
      "source": [
        "# 함수 선언\n",
        "def hello(name):\n",
        "    print(f'{name}님 안녕하세요? 반갑습니다!')\n",
        "\n",
        "# 함수 사용\n",
        "hello('홍길동')"
      ]
    },
    {
      "cell_type": "markdown",
      "metadata": {
        "id": "KEwfjbQVwNY1"
      },
      "source": [
        "- 숫자를 입력 매개변수로 받아 구구단을 출력하는 함수를 만듭니다."
      ]
    },
    {
      "cell_type": "code",
      "execution_count": null,
      "metadata": {
        "id": "MPwMenkrvzsr"
      },
      "outputs": [],
      "source": [
        "# 함수 선언\n",
        "def times_table(x):\n",
        "    for i in range(1, 10):\n",
        "        print(f'{x} x {i} = {x * i}')\n",
        "\n",
        "# 함수 사용\n",
        "times_table(8)"
      ]
    },
    {
      "cell_type": "markdown",
      "metadata": {
        "id": "H91qB7WqoLJ6"
      },
      "source": [
        "### **3) 입력 매개변수 기본값**\n",
        "\n",
        "- 위 함수는 입력 매개변수가 없으면 오류가 발생합니다.\n",
        "- '매개변수 = 값' 형태로 기본값을 지정할 수 있습니다.\n",
        "- 이름을 전달하지 않으면 '여러분'이 기본값으로 사용되게 수정합니다."
      ]
    },
    {
      "cell_type": "code",
      "execution_count": null,
      "metadata": {
        "id": "RAVftLGzyLne"
      },
      "outputs": [],
      "source": [
        "# 함수 선언\n",
        "def hello(name='여러분'):\n",
        "    print(f'{name}님 안녕하세요? 반갑습니다!')\n",
        "\n",
        "# 함수 사용\n",
        "hello('홍길동')\n",
        "hello()"
      ]
    },
    {
      "cell_type": "markdown",
      "metadata": {
        "id": "23c_zQMg1MKC"
      },
      "source": [
        "- '여러분 안녕하세요? 반갑습니다!'가 표시되게 함수를 수정합니다."
      ]
    },
    {
      "cell_type": "code",
      "execution_count": null,
      "metadata": {
        "id": "nETufo5_1MKC"
      },
      "outputs": [],
      "source": [
        "# 함수 선언\n",
        "def hello(name='여러분'):\n",
        "    if name == '여러분':\n",
        "        print(f'{name} 안녕하세요? 반갑습니다!')\n",
        "    else:\n",
        "        print(f'{name}님 안녕하세요? 반갑습니다!')\n",
        "\n",
        "# 함수 사용\n",
        "hello('홍길동')\n",
        "hello()"
      ]
    },
    {
      "cell_type": "markdown",
      "metadata": {
        "id": "x_W5DvqVoSxN"
      },
      "source": [
        "### **4) 입력 매개변수 순서**\n",
        "\n",
        "- '매개변수 = 값' 형태로 입력값을 전달하는 경우는 함수 선언 시 매개변수 순서와 달라도 됩니다.\n",
        "- 함수 선언 시 매개변수 순서에 맞게 입력 값을 전달하는 경우는 매개변수 이름을 생략할 수 있습니다."
      ]
    },
    {
      "cell_type": "code",
      "execution_count": null,
      "metadata": {
        "id": "0FpZAvfTyuBF"
      },
      "outputs": [],
      "source": [
        "# 함수 만들기\n",
        "def hello(name, loud=1):\n",
        "    if loud == 1:\n",
        "        print(f'우~~와~~ {name}님 안녕하세요? 반갑습니다!!!')\n",
        "    else:\n",
        "        print(f'{name}님 안녕하세요? 반가워요.')\n",
        "\n",
        "# 함수 사용\n",
        "hello(name='홍길동', loud=1)   # 매개변수 = 값 형태로 지정\n",
        "hello(loud=0, name='홍길동')   # 매개변수 순서 변경\n",
        "hello('홍길동', 0)             # 매개변수 이름 생략\n",
        "hello('홍길동')                # 매개변수 기본값 사용"
      ]
    },
    {
      "cell_type": "markdown",
      "metadata": {
        "id": "e332SgU4nDl7"
      },
      "source": [
        "## **Topic 2. 고급 함수 만들기**"
      ]
    },
    {
      "cell_type": "markdown",
      "metadata": {
        "id": "wGgNTvbBnsN3"
      },
      "source": [
        "### **1) 여러 매개변수**\n",
        "\n",
        "- 입력 매개변수가 여러 개 전달되는 경우 매개변수 이름에 *을 붙입니다.\n",
        "- 대부분 함수 안에서 반복문을 사용해 출력합니다.\n",
        "\n"
      ]
    },
    {
      "cell_type": "code",
      "execution_count": null,
      "metadata": {
        "id": "8tSDYJ9N0LMy"
      },
      "outputs": [],
      "source": [
        "# 함수 선언\n",
        "def hello(*args):\n",
        "    for who in args:\n",
        "        print(f'{who}님 안녕하세요? 반갑습니다!')\n",
        "\n",
        "# 함수 사용\n",
        "hello('홍길동', '일지매', '강우동')"
      ]
    },
    {
      "cell_type": "code",
      "execution_count": null,
      "metadata": {
        "id": "KgZAgWvdP1M1"
      },
      "outputs": [],
      "source": [
        "# 함수 선언\n",
        "def summ(*nums):\n",
        "    print(sum([x ** 2 for x in nums]))\n",
        "\n",
        "# 함수 사용\n",
        "summ(1, 4, 3, 5)"
      ]
    },
    {
      "cell_type": "markdown",
      "metadata": {
        "id": "OFqgIyTb5MLx"
      },
      "source": [
        "- 임의의 여러 입력 매개변수와 고정된 매개변수를 사용할 수 있습니다."
      ]
    },
    {
      "cell_type": "code",
      "execution_count": null,
      "metadata": {
        "id": "IziA8qSG0LMz"
      },
      "outputs": [],
      "source": [
        "# 함수 만들기\n",
        "def hello(*args, title):\n",
        "    for who in args:\n",
        "        print(f'{who}{title} 안녕하세요? 반갑습니다!')\n",
        "\n",
        "# 함수 사용\n",
        "hello('홍길동', '일지매', '강우동', title='선생님')"
      ]
    },
    {
      "cell_type": "markdown",
      "metadata": {
        "id": "sizxXJddnvpX"
      },
      "source": [
        "### **2) 함수 출력**\n",
        "\n",
        "- 함수 안에서 print() 함수로 결과를 출력하는 함수는 반환되는 값이 없습니다."
      ]
    },
    {
      "cell_type": "code",
      "execution_count": null,
      "metadata": {
        "id": "vsB1YMjwOofc"
      },
      "outputs": [],
      "source": [
        "# 함수 만들기\n",
        "def numbers1(*nums):\n",
        "    print(nums)\n",
        "\n",
        "# 함수 사용\n",
        "numbers1(1, 2, 3)"
      ]
    },
    {
      "cell_type": "markdown",
      "metadata": {
        "id": "RKTHnFPWeUiV"
      },
      "source": [
        "- 반환되는 값이 없는 함수의 결괏값을 받아 출력하면 None이 출력됩니다."
      ]
    },
    {
      "cell_type": "code",
      "execution_count": null,
      "metadata": {
        "id": "0ADL7xHEeFi8"
      },
      "outputs": [],
      "source": [
        "# 함수 만들기\n",
        "def numbers1(*nums):\n",
        "    print(nums)\n",
        "\n",
        "# 함수 사용\n",
        "a1 = numbers1(1, 2, 3)\n",
        "print(a1)"
      ]
    },
    {
      "cell_type": "markdown",
      "metadata": {
        "id": "ZK_goH8Qn0nC"
      },
      "source": [
        "### **3) 함수 반환값 받기**\n",
        "\n",
        "- 함수 안에서 return 문으로 반환한 값을 받아 함수 밖에서 사용할 수 있습니다."
      ]
    },
    {
      "cell_type": "code",
      "execution_count": null,
      "metadata": {
        "id": "NETSaXwtPDX2"
      },
      "outputs": [],
      "source": [
        "# 함수 선언\n",
        "def calculate(a, b):\n",
        "    summ = a + b\n",
        "    return summ\n",
        "\n",
        "# 함수 사용\n",
        "r1 = calculate(10, 5)\n",
        "print(r1)"
      ]
    },
    {
      "cell_type": "markdown",
      "metadata": {
        "id": "8vz4c6d6ek3p"
      },
      "source": [
        "- 함수가 여러 개의 결괏값을 반환할 수도 있습니다."
      ]
    },
    {
      "cell_type": "code",
      "execution_count": null,
      "metadata": {
        "id": "dZ6XUNl5ecE7"
      },
      "outputs": [],
      "source": [
        "# 함수 선언\n",
        "def calculate(a, b):\n",
        "    summ = a + b\n",
        "    mult = a * b\n",
        "    return summ, mult\n",
        "\n",
        "# 함수 사용\n",
        "r1, r2 = calculate(10, 5)\n",
        "print(r1)\n",
        "print(r2)"
      ]
    },
    {
      "cell_type": "markdown",
      "metadata": {
        "id": "t3FKpH4JnSg9"
      },
      "source": [
        "## **Topic 3. 주요 내장 함수**"
      ]
    },
    {
      "cell_type": "markdown",
      "metadata": {
        "id": "92K9Bv1JndM4"
      },
      "source": [
        "### **1) 숫자를 다루는 함수**"
      ]
    },
    {
      "cell_type": "markdown",
      "metadata": {
        "id": "V0J48pQHTNDj"
      },
      "source": [
        "#### **① max(iterable) 함수**\n",
        "\n",
        "- 문자열, 리스트, 튜플, 딕셔너리, 집합, range() 함수 등을 이터러블(iterable) 객체라고 합니다.\n",
        "- 이터러블 객체에서 최댓값을 반환합니다."
      ]
    },
    {
      "cell_type": "code",
      "execution_count": null,
      "metadata": {
        "id": "ogcIOQb-TFBE"
      },
      "outputs": [],
      "source": [
        "# 리스트 선언\n",
        "a = [1, 2, 3, 4, 5]\n",
        "\n",
        "# 최댓값\n",
        "print(max(a))"
      ]
    },
    {
      "cell_type": "markdown",
      "metadata": {
        "id": "yZMCVE9sTP7f"
      },
      "source": [
        "#### **② min(iterable) 함수**\n",
        "\n",
        "- 이터러블 객체에서 최솟값을 반환합니다."
      ]
    },
    {
      "cell_type": "code",
      "execution_count": null,
      "metadata": {
        "id": "rMx_Erm0TI9l"
      },
      "outputs": [],
      "source": [
        "# 리스트 선언\n",
        "a = [1, 2, 3, 4, 5]\n",
        "\n",
        "# 최솟값\n",
        "print(min(a))"
      ]
    },
    {
      "cell_type": "markdown",
      "metadata": {
        "id": "Do7jUvRKYVht"
      },
      "source": [
        "#### **③ sum(iterable) 함수**\n",
        "\n",
        "- 이터러블 객체의 모든 요소를 합산한 값을 반환합니다."
      ]
    },
    {
      "cell_type": "code",
      "execution_count": null,
      "metadata": {
        "id": "m2PR0oW8ueEy"
      },
      "outputs": [],
      "source": [
        "# 리스트 선언\n",
        "a = [1, 2, 3, 4, 5]\n",
        "\n",
        "# 합\n",
        "print(sum(a))"
      ]
    },
    {
      "cell_type": "markdown",
      "metadata": {
        "id": "y8gslhjLLQzi"
      },
      "source": [
        "#### **④ abs(x) 함수**\n",
        "\n",
        "- 주어진 숫자 x의 절댓값을 반환합니다."
      ]
    },
    {
      "cell_type": "code",
      "execution_count": null,
      "metadata": {
        "id": "iCRXdLF8K2Bs"
      },
      "outputs": [],
      "source": [
        "# 변수 선언\n",
        "a = -123.45\n",
        "\n",
        "# 절댓값\n",
        "print(abs(a))"
      ]
    },
    {
      "cell_type": "markdown",
      "metadata": {
        "id": "Nifc0A1Rn9yT"
      },
      "source": [
        "#### **⑤ round(x[, ndigits]) 함수**\n",
        "\n",
        "- 주어진 숫자 x를 반올림하여 반환합니다.\n",
        "- ndigits 매개변수를 사용하여 소수점 이하 자릿수를 지정합니다."
      ]
    },
    {
      "cell_type": "code",
      "execution_count": null,
      "metadata": {
        "id": "bPxfn6GNuqsw"
      },
      "outputs": [],
      "source": [
        "# 변수 선언\n",
        "a = 23.456\n",
        "b = 45.673\n",
        "\n",
        "# 반올림\n",
        "print(round(a, 2))\n",
        "print(round(b, 2))"
      ]
    },
    {
      "cell_type": "markdown",
      "metadata": {
        "id": "RN4z45RAN4Tu"
      },
      "source": [
        "#### **⑥ divmod(x, y) 함수**\n",
        "\n",
        "- 숫자 x를 숫자 y로 나눈 결과의 몫과 나머지를 튜플로 반환합니다."
      ]
    },
    {
      "cell_type": "code",
      "execution_count": null,
      "metadata": {
        "id": "DQmxLvnANccm"
      },
      "outputs": [],
      "source": [
        "# 변수 선언\n",
        "a = 32\n",
        "b = 5\n",
        "\n",
        "# 몫, 나머지\n",
        "c, d = divmod(a, b)\n",
        "\n",
        "# 확인\n",
        "print('몫:', c, '나머지:', d)"
      ]
    },
    {
      "cell_type": "markdown",
      "metadata": {
        "id": "x_CcZUtiTjv0"
      },
      "source": [
        "#### **⑦ pow(x, y[, z]) 함수**\n",
        "\n",
        "- x를 y 제곱한 값을 계산하고, 선택적으로 z로 나눈 나머지를 반환합니다."
      ]
    },
    {
      "cell_type": "code",
      "execution_count": null,
      "metadata": {
        "id": "PY0zVqM_TmyF"
      },
      "outputs": [],
      "source": [
        "# 변수 선언\n",
        "a = 3\n",
        "b = 4\n",
        "\n",
        "# 제곱\n",
        "print(pow(a, b))\n",
        "\n",
        "# 제곱 % 4\n",
        "print(pow(a, b, 4))"
      ]
    },
    {
      "cell_type": "markdown",
      "metadata": {
        "id": "eOuDfdo-niId"
      },
      "source": [
        "### **2) 문자열을 다루는 함수**"
      ]
    },
    {
      "cell_type": "markdown",
      "metadata": {
        "id": "Wi_bVXZKSQfM"
      },
      "source": [
        "#### **① len(s) 함수**\n",
        "\n",
        "- 문자열 s의 길이(문자 개수)를 반환합니다."
      ]
    },
    {
      "cell_type": "code",
      "execution_count": null,
      "metadata": {
        "id": "epKYJx_ISE1S"
      },
      "outputs": [],
      "source": [
        "# 문자열 변수 선언\n",
        "a = 'I have a Dream.'\n",
        "\n",
        "# 길이\n",
        "len(a)"
      ]
    },
    {
      "cell_type": "code",
      "execution_count": null,
      "metadata": {
        "id": "mbnGWfknSLVx"
      },
      "outputs": [],
      "source": [
        "# 리스트 변수 선언\n",
        "b = [1, 2, 3, 4, 5]\n",
        "\n",
        "# 요소 개수\n",
        "len(b)"
      ]
    },
    {
      "cell_type": "markdown",
      "metadata": {
        "id": "d1sRq19ZTZkW"
      },
      "source": [
        "#### **② ord(c) 함수**\n",
        "\n",
        "- 문자 c에 해당하는 유니코드 코드 포인트를 반환합니다."
      ]
    },
    {
      "cell_type": "code",
      "execution_count": null,
      "metadata": {
        "id": "QIzVn8FlTf0r"
      },
      "outputs": [],
      "source": [
        "# 영어\n",
        "print(ord('A'))\n",
        "print(ord('a'))\n",
        "\n",
        "# 한글\n",
        "print(ord('ㅂ'))\n",
        "print(ord('가'))\n",
        "print(ord('한'))"
      ]
    },
    {
      "cell_type": "markdown",
      "metadata": {
        "id": "d9Q9hODVMQfL"
      },
      "source": [
        "#### **③ chr(i) 함수**\n",
        "\n",
        "- 유니코드 코드 포인트 i에 해당하는 문자를 반환합니다."
      ]
    },
    {
      "cell_type": "code",
      "execution_count": null,
      "metadata": {
        "id": "qR_s1O7-L85I"
      },
      "outputs": [],
      "source": [
        "# 영어\n",
        "print(chr(65))\n",
        "print(chr(97))\n",
        "\n",
        "# 한글\n",
        "print(chr(12610))\n",
        "print(chr(44032))\n",
        "print(chr(54620))"
      ]
    },
    {
      "cell_type": "markdown",
      "metadata": {
        "id": "d4NYVuoBniP6"
      },
      "source": [
        "### **3) 기타 함수**"
      ]
    },
    {
      "cell_type": "markdown",
      "metadata": {
        "id": "UuEGp0bPUMhs"
      },
      "source": [
        "#### **① range(stop) 함수**\n",
        "\n",
        "- 0부터 stop-1까지 정수를 갖는 이터러블 객체를 반환합니다."
      ]
    },
    {
      "cell_type": "code",
      "execution_count": null,
      "metadata": {
        "id": "mNnSJV3XT16O"
      },
      "outputs": [],
      "source": [
        "# 변수 선언\n",
        "a = list(range(10))\n",
        "b = tuple(range(1, 11))\n",
        "c = set(range(1, 11, 2))\n",
        "\n",
        "# 확인\n",
        "print(a)\n",
        "print(b)\n",
        "print(c)"
      ]
    },
    {
      "cell_type": "markdown",
      "metadata": {
        "id": "FWr_rh3YOPUI"
      },
      "source": [
        "#### **② enumerate(iterable, start=0) 함수**\n",
        "\n",
        "- 이터러블 객체 각 요소와 해당 인덱스를 포함하는 이터러블 객체를 반환합니다."
      ]
    },
    {
      "cell_type": "code",
      "execution_count": null,
      "metadata": {
        "id": "6OQFffvOt7tJ"
      },
      "outputs": [],
      "source": [
        "# 변수 선언\n",
        "a = ['홍길동', '일지매', '한사랑']\n",
        "\n",
        "# 인덱스, 요소\n",
        "print(list(enumerate(a)))\n",
        "print(list(enumerate(a, start=0)))\n",
        "print(list(enumerate(a, start=1)))"
      ]
    },
    {
      "cell_type": "code",
      "execution_count": null,
      "metadata": {
        "id": "qqs8ZiVuN_2z"
      },
      "outputs": [],
      "source": [
        "# 변수 선언\n",
        "a = ['홍길동', '일지매', '한사랑']\n",
        "\n",
        "# 인덱스, 요소 출력\n",
        "for idx, name in enumerate(a):\n",
        "    print(f'{idx}: {name}')"
      ]
    },
    {
      "cell_type": "markdown",
      "metadata": {
        "id": "04_Nxif8Q_iQ"
      },
      "source": [
        "#### **③ input(prompt) 함수**\n",
        "\n",
        "- 사용자로부터 입력을 받습니다.(입력 받은 값은 언제나 문자열임)\n",
        "- 참고: jupyter lite가 아닌 경우는 아래 구문에서 await문을 삭제하세요."
      ]
    },
    {
      "cell_type": "code",
      "execution_count": null,
      "metadata": {
        "id": "PlbHu2Vkw_i6"
      },
      "outputs": [],
      "source": [
        "# 입력\n",
        "name = await input('이름을 입력하세요:')"
      ]
    },
    {
      "cell_type": "code",
      "execution_count": null,
      "metadata": {
        "id": "NNDumgvGL9ej"
      },
      "outputs": [],
      "source": [
        "# 확인\n",
        "print(f'{name}님 안녕하세요!')"
      ]
    },
    {
      "cell_type": "code",
      "execution_count": null,
      "metadata": {
        "id": "ZWXdZR42Qyjc"
      },
      "outputs": [],
      "source": [
        "# 입력\n",
        "a = await input()"
      ]
    },
    {
      "cell_type": "code",
      "execution_count": null,
      "metadata": {
        "id": "mMxL3ySlMBVR"
      },
      "outputs": [],
      "source": [
        "# 정수 변환\n",
        "a = int(a)\n",
        "\n",
        "# 짝홀수 확인\n",
        "if a % 2 == 0:\n",
        "    print(f'{a}은(는)짝수입니다.')\n",
        "else:\n",
        "    print(f'{a}은(는) 홀수입니다.')"
      ]
    },
    {
      "cell_type": "markdown",
      "metadata": {
        "id": "_9YTHvV-Xd0-"
      },
      "source": [
        "#### **④ zip(iterable1, iterable2, ...) 함수**\n",
        "\n",
        "- 여러 이터러블 객체에서 각 요소들을 묶어 튜플 형태의 이터러블 객체를 반환합니다."
      ]
    },
    {
      "cell_type": "code",
      "execution_count": null,
      "metadata": {
        "id": "UAkulD9_XVup"
      },
      "outputs": [],
      "source": [
        "# 변수 선언\n",
        "a = [1, 2, 3, 4, 5]\n",
        "b = [10, 20, 30, 40]\n",
        "\n",
        "# 묶기\n",
        "c = list(zip(a, b))\n",
        "\n",
        "# 확인\n",
        "print(c)"
      ]
    },
    {
      "cell_type": "code",
      "execution_count": null,
      "metadata": {
        "id": "a1kk981myKhT"
      },
      "outputs": [],
      "source": [
        "# 변수 선언\n",
        "name = ['홍길동', '일지매', '한사랑', '강우동']\n",
        "score = [80, 90, 70, 85]\n",
        "\n",
        "# 딕셔너리 선언\n",
        "c = {k:v for k, v in zip(name, score)}\n",
        "\n",
        "# 확인\n",
        "print(c)"
      ]
    },
    {
      "cell_type": "markdown",
      "metadata": {
        "id": "m_RVUF0ko8ox"
      },
      "source": [
        "## **Topic 4. 표준 모듈 활용**"
      ]
    },
    {
      "cell_type": "markdown",
      "metadata": {
        "id": "arl9FLdpzL2-"
      },
      "source": [
        "### **1) os 모듈**\n",
        "\n",
        "- os.getcwd(): 현재 작업 디렉터리의 경로를 반환합니다.\n",
        "- os.listdir(path): 지정한 디렉터리 내의 파일과 디렉터리 목록을 리스트로 반환합니다.\n",
        "- os.path.exists(path): 지정한 경로의 파일 또는 디렉터리가 존재하는지 확인합니다.\n",
        "- os.mkdir(path): 지정한 경로에 새 디렉터리를 생성합니다.\n",
        "- os.remove(path): 지정한 파일을 삭제합니다."
      ]
    },
    {
      "cell_type": "code",
      "execution_count": null,
      "metadata": {
        "id": "WZ01-ozMcc2t"
      },
      "outputs": [],
      "source": [
        "# 모듈 불러오기\n",
        "import os"
      ]
    },
    {
      "cell_type": "markdown",
      "metadata": {
        "id": "NCBjCp-b4YoU"
      },
      "source": [
        "#### **① os.getcwd() 함수**\n",
        "\n",
        "- 현재 작업 디렉터리의 경로를 반환합니다."
      ]
    },
    {
      "cell_type": "code",
      "execution_count": null,
      "metadata": {
        "id": "ZweI3LhG2Sx7"
      },
      "outputs": [],
      "source": [
        "# 현재 작업 디렉터리 얻기\n",
        "current_directory = os.getcwd()\n",
        "\n",
        "# 확인\n",
        "print('현재 작업 디렉토리:', current_directory)"
      ]
    },
    {
      "cell_type": "markdown",
      "metadata": {
        "id": "orGrnbr64SaY"
      },
      "source": [
        "#### **② os.listdir(path) 함수**\n",
        "\n",
        "- 지정한 디렉터리 내의 파일과 디렉터리 목록을 리스트로 반환합니다."
      ]
    },
    {
      "cell_type": "code",
      "execution_count": null,
      "metadata": {
        "id": "EQKvoqLR2VSI"
      },
      "outputs": [],
      "source": [
        "# 디렉터리 지정\n",
        "directory_path = '/drive/Python Basics/Lesson 3'\n",
        "\n",
        "# 목록 얻기\n",
        "file_list = os.listdir(directory_path)\n",
        "file_list.sort()\n",
        "\n",
        "# 확인\n",
        "for file in file_list:\n",
        "    print(file)"
      ]
    },
    {
      "cell_type": "markdown",
      "metadata": {
        "id": "OjBo3ppU4Mph"
      },
      "source": [
        "#### **③ os.path.exists(path) 함수**\n",
        "\n",
        "- 지정한 경로의 파일 또는 디렉터리가 존재하는지 확인합니다."
      ]
    },
    {
      "cell_type": "code",
      "execution_count": null,
      "metadata": {
        "id": "pYINjyzF2hso"
      },
      "outputs": [],
      "source": [
        "# 디렉터리 지정\n",
        "directory = 'Test'\n",
        "\n",
        "# 존재 여부 확인\n",
        "if os.path.exists(directory):\n",
        "    print(f'{directory} 디렉토리가 존재합니다.')\n",
        "else:\n",
        "    print(f'{directory} 디렉토리가 존재하지 않습니다.')"
      ]
    },
    {
      "cell_type": "markdown",
      "metadata": {
        "id": "Png63j-V4Qm3"
      },
      "source": [
        "#### **④ os.mkdir(path) 함수**\n",
        "\n",
        "- 지정한 경로에 새 디렉터리를 생성합니다."
      ]
    },
    {
      "cell_type": "code",
      "execution_count": null,
      "metadata": {
        "id": "M_vRwMNr2cl1"
      },
      "outputs": [],
      "source": [
        "# 디렉터리 지정\n",
        "new_directory = 'Test'\n",
        "\n",
        "# 디렉터리 만들기\n",
        "os.mkdir(new_directory)\n",
        "print(f'디렉토리 {new_directory}가 생성되었습니다.')"
      ]
    },
    {
      "cell_type": "markdown",
      "metadata": {
        "id": "QBy032g84OwJ"
      },
      "source": [
        "#### **⑤ os.remove(path) 함수**\n",
        "\n",
        "- 지정한 파일을 삭제합니다."
      ]
    },
    {
      "cell_type": "code",
      "execution_count": null,
      "metadata": {
        "id": "yf02KPRq2gD6"
      },
      "outputs": [],
      "source": [
        "# 파일 지정\n",
        "file_to_delete = 'Test/test.txt'\n",
        "\n",
        "# 파일이 있으면 삭제\n",
        "if os.path.exists(file_to_delete):\n",
        "    os.remove(file_to_delete)\n",
        "    print(f'{file_to_delete} 파일이 삭제되었습니다.')\n",
        "else:\n",
        "    print(f'{file_to_delete} 파일이 존재하지 않습니다.')"
      ]
    },
    {
      "cell_type": "markdown",
      "metadata": {
        "id": "7665tyPrzlzC"
      },
      "source": [
        "### **2) time 모듈**\n",
        "\n",
        "- time.time(): 현재 시간을 에폭 시간(1970년 1월 1일 이후 경과한 초)으로 반환합니다.\n",
        "- time.sleep(seconds): 주어진 시간(초) 동안 프로그램 실행을 일시 중지합니다.\n",
        "- time.localtime([secs]): 에폭 시간을 지역 시간으로 변환하여 튜플로 반환합니다.\n",
        "- time.strftime(format, t): 지역 시간을 주어진 형식에 따라 문자열로 포맷팅합니다.\n",
        "- time.gmtime([secs]): 에폭 시간을 협정 세계시(UTC)로 변환하여 튜플로 반환합니다.\n"
      ]
    },
    {
      "cell_type": "code",
      "execution_count": null,
      "metadata": {
        "id": "vwvHQ_G4ZOR9"
      },
      "outputs": [],
      "source": [
        "# 모듈 불러오기\n",
        "import time"
      ]
    },
    {
      "cell_type": "markdown",
      "metadata": {
        "id": "LhWJieO34Jza"
      },
      "source": [
        "#### **① time.time() 함수**\n",
        "\n",
        "- 현재 시간을 에폭 시간(1970년 1월 1일 이후 경과한 초)으로 반환합니다."
      ]
    },
    {
      "cell_type": "code",
      "execution_count": null,
      "metadata": {
        "id": "T5HWv3BwpEVZ"
      },
      "outputs": [],
      "source": [
        "# 현재 시간(초)\n",
        "current_time = time.time()\n",
        "\n",
        "# 확인\n",
        "print('현재 시간(타임스탬프):', current_time)"
      ]
    },
    {
      "cell_type": "markdown",
      "metadata": {
        "id": "incCc99_4H7T"
      },
      "source": [
        "#### **② time.sleep(seconds) 함수**\n",
        "\n",
        "- 주어진 시간(초) 동안 프로그램 실행을 일시 중지합니다."
      ]
    },
    {
      "cell_type": "code",
      "execution_count": null,
      "metadata": {
        "id": "nbjlex652q4e"
      },
      "outputs": [],
      "source": [
        "# 시각\n",
        "print('프로그램 시작')\n",
        "\n",
        "# 2초 동안 중지\n",
        "time.sleep(2)\n",
        "\n",
        "# 종료\n",
        "print('프로그램 종료')"
      ]
    },
    {
      "cell_type": "markdown",
      "metadata": {
        "id": "JpnECG1N4F_O"
      },
      "source": [
        "#### **③ time.localtime([secs]) 함수**\n",
        "\n",
        "- 에폭 시간을 지역 시간으로 변환하여 튜플로 반환합니다."
      ]
    },
    {
      "cell_type": "code",
      "execution_count": null,
      "metadata": {
        "id": "vC_71b7ebBrQ"
      },
      "outputs": [],
      "source": [
        "# 현재 시간\n",
        "current_time = time.localtime()\n",
        "\n",
        "# 확인\n",
        "print(current_time)"
      ]
    },
    {
      "cell_type": "code",
      "execution_count": null,
      "metadata": {
        "id": "lM9-0Szi9E78"
      },
      "outputs": [],
      "source": [
        "print('년:', current_time.tm_year)\n",
        "print('월:', current_time.tm_mon)\n",
        "print('일:', current_time.tm_mday)\n",
        "print('시:', current_time.tm_hour)\n",
        "print('분:', current_time.tm_min)\n",
        "print('초:', current_time.tm_sec)"
      ]
    },
    {
      "cell_type": "markdown",
      "metadata": {
        "id": "xilsf1vEbgJC"
      },
      "source": [
        "#### **④ time.strftime(format, t) 함수**\n",
        "\n",
        "- 지역 시간을 주어진 형식에 따라 문자열로 포맷팅합니다."
      ]
    },
    {
      "cell_type": "code",
      "execution_count": null,
      "metadata": {
        "id": "_NZzUqOPaF0U"
      },
      "outputs": [],
      "source": [
        "# 현재 시간\n",
        "current_time = time.localtime()\n",
        "\n",
        "# 포맷팅\n",
        "formatted_time = time.strftime('%Y-%m-%d %H:%M:%S', current_time)\n",
        "\n",
        "# 확인\n",
        "print('현재 시간:', formatted_time)"
      ]
    },
    {
      "cell_type": "markdown",
      "metadata": {
        "id": "s_N7-jhQbnzm"
      },
      "source": [
        "#### **⑤ time.gmtime([secs]) 함수**\n",
        "\n",
        "- 에폭 시간을 협정 세계시(UTC)로 변환하여 튜플로 반환합니다."
      ]
    },
    {
      "cell_type": "code",
      "execution_count": null,
      "metadata": {
        "id": "d4zFy6KAaUe3"
      },
      "outputs": [],
      "source": [
        "# 현재 UTC 시간\n",
        "utc_time = time.gmtime()\n",
        "\n",
        "# 확인\n",
        "print('현재 UTC 시간 정보:')\n",
        "print(f'년: {utc_time.tm_year}')\n",
        "print(f'월: {utc_time.tm_mon}')\n",
        "print(f'일: {utc_time.tm_mday}')\n",
        "print(f'시: {utc_time.tm_hour}')\n",
        "print(f'분: {utc_time.tm_min}')\n",
        "print(f'초: {utc_time.tm_sec}')"
      ]
    },
    {
      "cell_type": "markdown",
      "metadata": {
        "id": "Birr1VbTzpWx"
      },
      "source": [
        "### **3) random 모듈**\n",
        "\n",
        "- random.random(): 0 이상 1 미만의 부동 소수점 난수를 생성합니다.\n",
        "- random.randint(a, b): a와 b 사이(포함)의 정수 난수를 생성합니다.\n",
        "- random.choice(seq): 주어진 시퀀스(리스트, 튜플 등)에서 무작위로 요소를 선택합니다.\n",
        "- random.shuffle(seq): 주어진 시퀀스의 요소들을 무작위로 섞습니다.\n",
        "- random.seed(a=None, version=2): 난수 생성기의 시드(seed)를 설정합니다.\n"
      ]
    },
    {
      "cell_type": "code",
      "execution_count": null,
      "metadata": {
        "id": "t9Tapz0fYbaa"
      },
      "outputs": [],
      "source": [
        "# 모듈 불러오기\n",
        "import random"
      ]
    },
    {
      "cell_type": "markdown",
      "metadata": {
        "id": "h3k2Fdqp3_yD"
      },
      "source": [
        "#### **① random.random() 함수**\n",
        "\n",
        "- 0 이상 1 미만의 부동 소수점 난수를 생성합니다."
      ]
    },
    {
      "cell_type": "code",
      "execution_count": null,
      "metadata": {
        "id": "AoVzHquQzsro"
      },
      "outputs": [],
      "source": [
        "# 난수 만들기\n",
        "random_number = random.random()\n",
        "\n",
        "# 확인\n",
        "print('난수:', random_number)"
      ]
    },
    {
      "cell_type": "markdown",
      "metadata": {
        "id": "NPPfWv9B3996"
      },
      "source": [
        "#### **② random.randint(a, b) 함수**\n",
        "\n",
        "- a와 b 사이(포함)의 정수 난수를 생성합니다."
      ]
    },
    {
      "cell_type": "code",
      "execution_count": null,
      "metadata": {
        "id": "rGD3mu2624NB"
      },
      "outputs": [],
      "source": [
        "# 난수 만들기\n",
        "random_int = random.randint(1, 10)\n",
        "\n",
        "# 확인\n",
        "print('난수:', random_int)"
      ]
    },
    {
      "cell_type": "markdown",
      "metadata": {
        "id": "pwKbFpjH335y"
      },
      "source": [
        "#### **③ random.choice(seq) 함수**\n",
        "\n",
        "- 주어진 시퀀스(리스트, 튜플 등)에서 무작위로 요소를 선택합니다."
      ]
    },
    {
      "cell_type": "code",
      "execution_count": null,
      "metadata": {
        "id": "UWyVQlpB236t"
      },
      "outputs": [],
      "source": [
        "# 리스트 선언\n",
        "my_list = [10, 20, 30, 40, 50]\n",
        "\n",
        "# 무작위 선택\n",
        "random_element = random.choice(my_list)\n",
        "print('무작위 선택:', random_element)"
      ]
    },
    {
      "cell_type": "markdown",
      "metadata": {
        "id": "gqTTo2Vi37gE"
      },
      "source": [
        "#### **④ random.shuffle(seq) 함수**\n",
        "\n",
        "- 주어진 시퀀스의 요소들을 무작위로 섞습니다."
      ]
    },
    {
      "cell_type": "code",
      "execution_count": null,
      "metadata": {
        "id": "D87E9lZT24C7"
      },
      "outputs": [],
      "source": [
        "# 리스트 선언\n",
        "my_list = [1, 2, 3, 4, 5]\n",
        "\n",
        "# 요소 섞기\n",
        "random.shuffle(my_list)\n",
        "print('섞인 리스트:', my_list)"
      ]
    },
    {
      "cell_type": "markdown",
      "metadata": {
        "id": "3L96g_4X30Zu"
      },
      "source": [
        "#### **⑤ random.seed(a=None, version=2) 함수**\n",
        "\n",
        "- 난수 생성기의 시드(seed)를 설정합니다."
      ]
    },
    {
      "cell_type": "code",
      "execution_count": null,
      "metadata": {
        "id": "UonwEvk93BCE"
      },
      "outputs": [],
      "source": [
        "# 시드 설정\n",
        "random.seed(42)\n",
        "\n",
        "# 난수 만들기\n",
        "random_num1 = random.random()\n",
        "random_num2 = random.random()\n",
        "\n",
        "# 확인\n",
        "print('난수 1:', random_num1)\n",
        "print('난수 2:', random_num2)"
      ]
    },
    {
      "cell_type": "markdown",
      "metadata": {
        "id": "NFgaZ01NztNU"
      },
      "source": [
        "### **4) math 모듈**\n",
        "\n",
        "- math.sqrt(x): 주어진 숫자 x의 제곱근을 계산하여 반환합니다.\n",
        "- math.pow(x, y): x를 y 제곱한 값을 반환합니다. (x ** y와 동일)\n",
        "- math.exp(x): 지수 함수를 계산하여 반환합니다. ($e^x$)\n",
        "- math.ceil(x), math.floor(x): 올림(x 이상 가장 작은 정수), 내림(x 이하 가장 큰 정수)한 값을 반환합니다.\n",
        "- math.sin(x), math.cos(x), math.tan(x): 삼각 함수로, 각각 사인, 코사인, 탄젠트 값을 계산하여 반환합니다.\n"
      ]
    },
    {
      "cell_type": "code",
      "execution_count": null,
      "metadata": {
        "id": "RisD4bHRTlY8"
      },
      "outputs": [],
      "source": [
        "# 모듈 불러오기\n",
        "import math"
      ]
    },
    {
      "cell_type": "markdown",
      "metadata": {
        "id": "2P2DgsnY3x9u"
      },
      "source": [
        "#### **① math.sqrt(x) 함수**\n",
        "\n",
        "- 주어진 숫자 x의 제곱근을 계산하여 반환합니다."
      ]
    },
    {
      "cell_type": "code",
      "execution_count": null,
      "metadata": {
        "id": "EUsFwzenzxyE"
      },
      "outputs": [],
      "source": [
        "# 변수 선언\n",
        "num = 16\n",
        "\n",
        "# 제곱근\n",
        "square_root = math.sqrt(num)\n",
        "\n",
        "# 확인\n",
        "print(f'{num}의 제곱근은 {square_root}입니다.')"
      ]
    },
    {
      "cell_type": "markdown",
      "metadata": {
        "id": "9XuBD3jWVYdT"
      },
      "source": [
        "#### **② math.pow(x, y) 함수**\n",
        "\n",
        "- x를 y 제곱한 값을 반환합니다. (x ** y와 동일)"
      ]
    },
    {
      "cell_type": "code",
      "execution_count": null,
      "metadata": {
        "id": "c6A19LXNUD1f"
      },
      "outputs": [],
      "source": [
        "# 변수 선언\n",
        "x = 2\n",
        "y = 3\n",
        "\n",
        "# x를 y 제곱\n",
        "result = math.pow(x, y)\n",
        "\n",
        "# 확인\n",
        "print(f'{x}의 {y} 제곱은 {result}입니다.')"
      ]
    },
    {
      "cell_type": "markdown",
      "metadata": {
        "id": "bxHTao2j3wL3"
      },
      "source": [
        "#### **③ math.exp(x) 함수**\n",
        "\n",
        "- 지수 함수를 계산하여 반환합니다. ($e^x$)"
      ]
    },
    {
      "cell_type": "code",
      "execution_count": null,
      "metadata": {
        "id": "B6q65KPW3GFg"
      },
      "outputs": [],
      "source": [
        "# 변수 선언\n",
        "x = 2.0\n",
        "\n",
        "# e의 2.0 승\n",
        "result = math.exp(x)\n",
        "\n",
        "# 확인\n",
        "print(f'e의 {x} 승은 {result:.5f}입니다.')"
      ]
    },
    {
      "cell_type": "markdown",
      "metadata": {
        "id": "E9-lrxM23qGs"
      },
      "source": [
        "#### **④ math.ceil(x), math.floor(x) 함수**\n",
        "\n",
        "- 올림(x 이상 가장 작은 정수), 내림(x 이하 가장 큰 정수)한 값을 반환합니다."
      ]
    },
    {
      "cell_type": "code",
      "execution_count": null,
      "metadata": {
        "id": "0U8Kbs863For"
      },
      "outputs": [],
      "source": [
        "# 변수 선언\n",
        "num = 4.6\n",
        "\n",
        "# 올림, 내림, 반올릴\n",
        "c_num = math.ceil(num)\n",
        "f_num = math.floor(num)\n",
        "r_num = round(num)\n",
        "\n",
        "# 확인\n",
        "print('올림:', c_num)\n",
        "print('내림:', f_num)\n",
        "print('반올림:', r_num)"
      ]
    },
    {
      "cell_type": "markdown",
      "metadata": {
        "id": "lLbEoqA73t5X"
      },
      "source": [
        "#### **⑤ math.sin(x), math.cos(x), math.tan(x) 함수**\n",
        "\n",
        "- 삼각 함수로, 각각 사인, 코사인, 탄젠트 값을 계산하여 반환합니다."
      ]
    },
    {
      "cell_type": "code",
      "execution_count": null,
      "metadata": {
        "id": "0RL-maoy3F3b"
      },
      "outputs": [],
      "source": [
        "# 각도 --> 라디안 변환\n",
        "angle = math.radians(45)\n",
        "\n",
        "# sin, cos, tan\n",
        "s = math.sin(angle)\n",
        "c = math.cos(angle)\n",
        "t = math.tan(angle)\n",
        "\n",
        "# 확인\n",
        "print('sin:', s)\n",
        "print('cos:', c)\n",
        "print('tan:', t)"
      ]
    },
    {
      "cell_type": "markdown",
      "metadata": {
        "id": "_luWmWkEzywz"
      },
      "source": [
        "### **5) calendar 모듈**\n",
        "\n",
        "- calendar.month(year, month): 주어진 연도와 월에 해당하는 달력을 문자열 형식으로 반환합니다.\n",
        "- calendar.month_name: 월의 이름을 담고 있는 튜플을 반환합니다.\n",
        "- calendar.day_name: 요일의 이름을 담고 있는 튜플을 반환합니다.\n",
        "- calendar.weekday(year, month, day): 주어진 날짜의 요일을 반환합니다. (0: 월요일 ~ 6: 일요일)\n",
        "- calendar.isleap(year): 주어진 연도가 윤년인지 여부를 확인합니다. (윤년이면 True, 아니면 False)\n"
      ]
    },
    {
      "cell_type": "code",
      "execution_count": null,
      "metadata": {
        "id": "Ev8eV9CwI2G5"
      },
      "outputs": [],
      "source": [
        "# 모듈 불러오기\n",
        "import calendar"
      ]
    },
    {
      "cell_type": "markdown",
      "metadata": {
        "id": "U4F-8Xr33ngm"
      },
      "source": [
        "#### **① calendar.month(year, month) 함수**\n",
        "\n",
        "- 주어진 연도와 월에 해당하는 달력을 문자열 형식으로 반환합니다."
      ]
    },
    {
      "cell_type": "code",
      "execution_count": null,
      "metadata": {
        "id": "PHViTlyE3QjW"
      },
      "outputs": [],
      "source": [
        "# 연도\n",
        "year = 2023\n",
        "\n",
        "# 달력 표시\n",
        "cal = calendar.calendar(year)\n",
        "print(cal)"
      ]
    },
    {
      "cell_type": "code",
      "execution_count": null,
      "metadata": {
        "id": "FImCSL3Tz2AY"
      },
      "outputs": [],
      "source": [
        "# 년월\n",
        "year, month = 2023, 12\n",
        "\n",
        "# 달력 표시\n",
        "cal = calendar.month(year, month)\n",
        "print(cal)"
      ]
    },
    {
      "cell_type": "code",
      "execution_count": null,
      "metadata": {
        "id": "QSbpOjEaO0ak"
      },
      "outputs": [],
      "source": [
        "# 년월\n",
        "year, month = 2023, 12\n",
        "\n",
        "# 일요일 시작 설정\n",
        "cal = calendar.TextCalendar(calendar.SUNDAY)\n",
        "\n",
        "# 달력 표시\n",
        "cal_text = cal.formatmonth(year, month)\n",
        "print(cal_text)"
      ]
    },
    {
      "cell_type": "markdown",
      "metadata": {
        "id": "gB0_cu4vLEDk"
      },
      "source": [
        "#### **② calendar.month_name 속성**\n",
        "\n",
        "- 월의 이름을 담고 있는 튜플을 반환합니다."
      ]
    },
    {
      "cell_type": "code",
      "execution_count": null,
      "metadata": {
        "id": "0AYSPdffK8x0"
      },
      "outputs": [],
      "source": [
        "# 월 이름 출력\n",
        "for m_num, m_name in enumerate(calendar.month_name):\n",
        "    if m_num == 0:\n",
        "        continue  # 0번째 인덱스 무시\n",
        "    print(f\"{m_num:2d}월: {m_name}\")"
      ]
    },
    {
      "cell_type": "markdown",
      "metadata": {
        "id": "PajzWt713foe"
      },
      "source": [
        "#### **③ calendar.day_name 속성**\n",
        "\n",
        "- 요일의 이름을 담고 있는 튜플을 반환합니다."
      ]
    },
    {
      "cell_type": "code",
      "execution_count": null,
      "metadata": {
        "id": "1xLKA7jH3Qax"
      },
      "outputs": [],
      "source": [
        "# 요일 이름\n",
        "day_name = calendar.day_name\n",
        "\n",
        "# 확인\n",
        "for day in day_name:\n",
        "    print(day)"
      ]
    },
    {
      "cell_type": "markdown",
      "metadata": {
        "id": "g3BYJJY8Lmwx"
      },
      "source": [
        "#### **④ calendar.weekday(year, month, day) 함수**\n",
        "\n",
        "- 주어진 날짜의 요일을 반환합니다. (0: 월요일 ~ 6: 일요일)"
      ]
    },
    {
      "cell_type": "code",
      "execution_count": null,
      "metadata": {
        "id": "K-GO_hOBLa3N"
      },
      "outputs": [],
      "source": [
        "# 날짜\n",
        "year, month, day = 2023, 12, 25\n",
        "\n",
        "# 요일 확인\n",
        "day_of_week = calendar.weekday(year, month, day)\n",
        "\n",
        "# 문자열로 변환\n",
        "day_names = ['월요일', '화요일', '수요일', '목요일', '금요일', '토요일', '일요일']\n",
        "day_name = day_names[day_of_week]\n",
        "\n",
        "# 확인\n",
        "print(f'{year}년 {month}월 {day}일은 {day_name}입니다.')"
      ]
    },
    {
      "cell_type": "markdown",
      "metadata": {
        "id": "FHFRXbfs3dWm"
      },
      "source": [
        "#### **⑤ calendar.isleap(year) 함수**\n",
        "\n",
        "- 주어진 연도가 윤년인지 여부를 확인합니다. (윤년이면 True, 아니면 False)."
      ]
    },
    {
      "cell_type": "code",
      "execution_count": null,
      "metadata": {
        "id": "S_dO2DIX3QS0"
      },
      "outputs": [],
      "source": [
        "# 연도\n",
        "year = 2024\n",
        "\n",
        "# 윤년 확인\n",
        "if calendar.isleap(year):\n",
        "    print(f'{year}년은 윤년입니다.')\n",
        "else:\n",
        "    print(f'{year}년은 윤년이 아닙니다.')"
      ]
    }
  ],
  "metadata": {
    "colab": {
      "provenance": []
    },
    "kernelspec": {
      "display_name": "Python 3 (ipykernel)",
      "language": "python",
      "name": "python3"
    },
    "language_info": {
      "codemirror_mode": {
        "name": "ipython",
        "version": 3
      },
      "file_extension": ".py",
      "mimetype": "text/x-python",
      "name": "python",
      "nbconvert_exporter": "python",
      "pygments_lexer": "ipython3",
      "version": "3.11.5"
    }
  },
  "nbformat": 4,
  "nbformat_minor": 0
}